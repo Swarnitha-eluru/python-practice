{
 "cells": [
  {
   "cell_type": "code",
   "execution_count": 57,
   "metadata": {},
   "outputs": [
    {
     "name": "stdout",
     "output_type": "stream",
     "text": [
      "\"hello world\"\n"
     ]
    }
   ],
   "source": [
    "print(\"\\\"hello world\\\"\")\n"
   ]
  },
  {
   "cell_type": "code",
   "execution_count": 9,
   "metadata": {},
   "outputs": [
    {
     "name": "stdout",
     "output_type": "stream",
     "text": [
      "enter a number13\n"
     ]
    },
    {
     "ename": "NameError",
     "evalue": "name 'var' is not defined",
     "output_type": "error",
     "traceback": [
      "\u001b[0;31m---------------------------------------------------------------------------\u001b[0m",
      "\u001b[0;31mNameError\u001b[0m                                 Traceback (most recent call last)",
      "\u001b[0;32m<ipython-input-9-053cd0f312f0>\u001b[0m in \u001b[0;36m<module>\u001b[0;34m()\u001b[0m\n\u001b[1;32m      1\u001b[0m \u001b[0mVar\u001b[0m \u001b[0;34m=\u001b[0m \u001b[0minput\u001b[0m\u001b[0;34m(\u001b[0m\u001b[0;34m\"enter a number\"\u001b[0m\u001b[0;34m)\u001b[0m\u001b[0;34m\u001b[0m\u001b[0m\n\u001b[0;32m----> 2\u001b[0;31m \u001b[0mprint\u001b[0m\u001b[0;34m(\u001b[0m\u001b[0mvar\u001b[0m\u001b[0;34m)\u001b[0m\u001b[0;34m\u001b[0m\u001b[0m\n\u001b[0m",
      "\u001b[0;31mNameError\u001b[0m: name 'var' is not defined"
     ]
    }
   ],
   "source": [
    "Var = input(\"enter a number\")\n",
    "print(var)#NameError: name 'var' is not defined"
   ]
  },
  {
   "cell_type": "code",
   "execution_count": 39,
   "metadata": {},
   "outputs": [
    {
     "name": "stdout",
     "output_type": "stream",
     "text": [
      "6\n",
      "2\n",
      "8\n",
      "2.0\n",
      "0\n",
      "2\n",
      "16\n"
     ]
    }
   ],
   "source": [
    "#arithmetic operators\n",
    "a=4\n",
    "b=2\n",
    "print(a+b)#performs addition\n",
    "print(a-b)#performs subtraction\n",
    "print(a*b)#performs multiplication\n",
    "print(a/b)#performs division\n",
    "print(a%b)#performs modulus\n",
    "print(a//b)#performs floor division\n",
    "print(a**b)#performs exponent"
   ]
  },
  {
   "cell_type": "code",
   "execution_count": 26,
   "metadata": {},
   "outputs": [
    {
     "name": "stdout",
     "output_type": "stream",
     "text": [
      "('a > b  is', True)\n",
      "('a < b  is', False)\n",
      "('a >= b  is', True)\n",
      "('a <= b  is', False)\n",
      "('a == b  is', False)\n",
      "('a != b  is', True)\n"
     ]
    }
   ],
   "source": [
    "#comparision operators\n",
    "a=4\n",
    "b=3\n",
    "print(('a > b  is',a>b))#greater than\n",
    "print(('a < b  is',a<b))#less than\n",
    "print(('a >= b  is',a>=b))#greater than or equal to\n",
    "print(('a <= b  is',a<=b))#less than or equal to\n",
    "print(('a == b  is',a==b))#equal to\n",
    "print(('a != b  is',a!=b))#not equal to"
   ]
  },
  {
   "cell_type": "code",
   "execution_count": 33,
   "metadata": {},
   "outputs": [
    {
     "name": "stdout",
     "output_type": "stream",
     "text": [
      "false\n"
     ]
    }
   ],
   "source": [
    "#boolean operators\n",
    "a = 3\n",
    "b = 4\n",
    "if a==b:\n",
    "    print(\"true\")\n",
    "else:\n",
    "    print(\"false\")"
   ]
  },
  {
   "cell_type": "code",
   "execution_count": 37,
   "metadata": {},
   "outputs": [
    {
     "name": "stdout",
     "output_type": "stream",
     "text": [
      "5\n",
      "4\n",
      "4\n",
      "1.0\n"
     ]
    }
   ],
   "source": [
    "#assignment operators\n",
    "a+=1      #increment\n",
    "print(a)\n",
    "a-=1      #decrement\n",
    "print(a)\n",
    "a*=1      #multiply\n",
    "print(a)\n",
    "a/=4      #divide\n",
    "print(a)"
   ]
  },
  {
   "cell_type": "code",
   "execution_count": 40,
   "metadata": {},
   "outputs": [
    {
     "name": "stdout",
     "output_type": "stream",
     "text": [
      "('a and b is', 4)\n",
      "('a or b is', 2)\n",
      "('not a is', False)\n"
     ]
    }
   ],
   "source": [
    "#logical operators\n",
    "a = 2\n",
    "b = 4\n",
    "print(('a and b is',a and b))\n",
    "print(('a or b is',a or b))\n",
    "print(('not a is',not a))\n"
   ]
  },
  {
   "cell_type": "code",
   "execution_count": 56,
   "metadata": {},
   "outputs": [
    {
     "ename": "SyntaxError",
     "evalue": "invalid syntax (<ipython-input-56-1b47bbb567aa>, line 8)",
     "output_type": "error",
     "traceback": [
      "\u001b[0;36m  File \u001b[0;32m\"<ipython-input-56-1b47bbb567aa>\"\u001b[0;36m, line \u001b[0;32m8\u001b[0m\n\u001b[0;31m    @var=123\u001b[0m\n\u001b[0m        ^\u001b[0m\n\u001b[0;31mSyntaxError\u001b[0m\u001b[0;31m:\u001b[0m invalid syntax\n"
     ]
    }
   ],
   "source": [
    "#variable rules\n",
    "Var=10 \n",
    "print(Var)#10\n",
    "var=12\n",
    "print(var)#12\n",
    "var=13\n",
    "print(Var)#12\n",
    "@var=123\n",
    "print(@var)#SyntaxError: invalid syntax\n",
    "Var_a=19\n",
    "print(Var_a)#19\n",
    "2var=123\n",
    "print(2var)#SyntaxError: invalid syntax\n",
    "_var=13\n",
    "print(_var)#13\n",
    "var12=6789\n",
    "print(var12)#6789\n",
    "var@45=768\n",
    "print(var@45)#SyntaxError: can't assign to operator"
   ]
  },
  {
   "cell_type": "code",
   "execution_count": 55,
   "metadata": {},
   "outputs": [
    {
     "name": "stdout",
     "output_type": "stream",
     "text": [
      "False\n",
      "False\n",
      "True\n",
      "True\n"
     ]
    }
   ],
   "source": [
    "#special operators\n",
    "a = 10\n",
    "b = 10\n",
    "c = 14\n",
    "d = 24\n",
    "print(a is not b)#false\n",
    "print(c is d)#false\n",
    "print(a is b)#true\n",
    "print(c is not d)#true"
   ]
  },
  {
   "cell_type": "code",
   "execution_count": null,
   "metadata": {},
   "outputs": [],
   "source": []
  },
  {
   "cell_type": "code",
   "execution_count": null,
   "metadata": {},
   "outputs": [],
   "source": []
  }
 ],
 "metadata": {
  "kernelspec": {
   "display_name": "Python 3",
   "language": "python",
   "name": "python3"
  },
  "language_info": {
   "codemirror_mode": {
    "name": "ipython",
    "version": 3
   },
   "file_extension": ".py",
   "mimetype": "text/x-python",
   "name": "python",
   "nbconvert_exporter": "python",
   "pygments_lexer": "ipython3",
   "version": "3.5.2"
  }
 },
 "nbformat": 4,
 "nbformat_minor": 2
}
